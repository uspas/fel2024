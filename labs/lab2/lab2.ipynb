{
 "cells": [
  {
   "cell_type": "markdown",
   "id": "a6937aef-41d9-41f3-a782-93e7c1e78103",
   "metadata": {},
   "source": [
    "# Lab 2\n",
    "\n",
    "- Bmad/Tao/PyTao into\n",
    "- Designing periodic Twiss"
   ]
  },
  {
   "cell_type": "code",
   "execution_count": 1,
   "id": "f2f02594-d33b-4a90-b70a-4cc785861bdb",
   "metadata": {},
   "outputs": [],
   "source": [
    "from pytao import Tao\n",
    "\n",
    "import numpy as np\n",
    "\n",
    "import matplotlib.pyplot as plt"
   ]
  },
  {
   "cell_type": "markdown",
   "id": "8791c51c-5f5d-4b48-8fae-1093c20aeca3",
   "metadata": {},
   "source": [
    "# Helpers"
   ]
  },
  {
   "cell_type": "code",
   "execution_count": 2,
   "id": "15241046-3b15-4d39-81d4-190cc8ad993f",
   "metadata": {},
   "outputs": [],
   "source": [
    "def write_str(string, filename):\n",
    "    with open(filename, 'w') as f:\n",
    "        f.write(string)"
   ]
  },
  {
   "cell_type": "markdown",
   "id": "44179879-92ab-4008-ac08-11b95509a2c4",
   "metadata": {},
   "source": [
    "## Basic FODO lattice in Bmad"
   ]
  },
  {
   "cell_type": "code",
   "execution_count": 3,
   "id": "81265fe5-8005-44a4-b16a-d181ff019517",
   "metadata": {},
   "outputs": [],
   "source": [
    "Lquad = 0.1\n",
    "Ltot = 2\n",
    "\n",
    "LAT = f\"\"\"\n",
    "parameter[geometry] = closed\n",
    "beginning[e_tot] = 100e6\n",
    "\n",
    "Ltot = {Ltot}\n",
    "Lquad = {Lquad}\n",
    "\n",
    "! Drifts\n",
    "d1: drift, L = Ltot/2 - Lquad\n",
    "d2: d1\n",
    "\n",
    "! Quads\n",
    "q1: quad, L = Lquad, k1 = 1\n",
    "q2: q1, k1 = -q1[k1]\n",
    "\n",
    "lat: line = (d1, q1, \n",
    "            d2, q2)\n",
    "\n",
    "use, lat\n",
    "\n",
    "\"\"\"\n",
    "\n",
    "write_str(LAT, 'lat.bmad')"
   ]
  },
  {
   "cell_type": "code",
   "execution_count": 4,
   "id": "072d0235-4806-4cfd-94ac-d7f3338ad6c3",
   "metadata": {},
   "outputs": [],
   "source": [
    "tao = Tao('-lat lat.bmad')"
   ]
  },
  {
   "cell_type": "code",
   "execution_count": 5,
   "id": "2fc61702-89f8-407a-a2f9-35845d88c309",
   "metadata": {},
   "outputs": [
    {
     "name": "stdout",
     "output_type": "stream",
     "text": [
      "-------------------------\n",
      "Tao> sho ele end\n",
      "Element # 5\n",
      "Element Name: END\n",
      "Key: Marker\n",
      "S_start, S:      2.000000,      2.000000\n",
      "Ref_time_start, Ref_time:  6.671369E-09,  6.671369E-09\n",
      "\n",
      "Attribute values [Only non-zero values shown]:\n",
      "    1  L                           =  0.0000000E+00 m\n",
      "    7  OSC_AMPLITUDE               =  0.0000000E+00 m\n",
      "   24  TILT_CALIB                  =  0.0000000E+00 rad\n",
      "   25  DE_ETA_MEAS                 =  0.0000000E+00\n",
      "   53  P0C                         =  9.9998694E+07 eV           BETA                        =  9.9998694E-01\n",
      "   54  E_TOT                       =  1.0000000E+08 eV           GAMMA                       =  1.9569512E+02\n",
      "   64  REF_TIME_START              =  6.6713690E-09 sec      50  DELTA_REF_TIME              =  0.0000000E+00 sec\n",
      "\n",
      "       TRACKING_METHOD              =  Bmad_Standard             APERTURE_AT                =  Exit_End\n",
      "       MAT6_CALC_METHOD             =  Auto                      APERTURE_TYPE              =  Rectangular\n",
      "       SPIN_TRACKING_METHOD         =  Tracking                  OFFSET_MOVES_APERTURE      =  F\n",
      "       PTC_INTEGRATION_TYPE         =  Matrix_Kick               LONGITUDINAL ORIENTATION   =       1\n",
      "                                                                 REF_SPECIES                =  Positron\n",
      "\n",
      "Slave_status: Free\n",
      "\n",
      "Lord_status:  Not_a_Lord\n",
      "\n",
      "Twiss at end of element:\n",
      "                          A              B            Cbar                        C_mat\n",
      "  Beta (m)        19.79038136    21.65573104  |   0.00000000   0.00000000      0.00000000   0.00000000\n",
      "  Alpha           -0.99122600     1.08138475  |   0.00000000   0.00000000      0.00000000   0.00000000\n",
      "  Gamma (1/m)      0.10017639     0.10017639  |   Gamma_c =   1.00000000       Mode_Flip = F\n",
      "  Phi (rad)        0.09664674     0.09664674            X              Y              Z\n",
      "  Eta (m)          0.00000000     0.00000000     0.00000000     0.00000000     0.00000000\n",
      "  Etap             0.00000000     0.00000000     0.00000000     0.00000000     1.00000000\n",
      "  dEta/ds          0.00000000     0.00000000     0.00000000     0.00000000     1.00000000\n",
      "\n",
      "Tracking: Positron,   State: Alive\n",
      "         Position[mm] Momentum[mrad]        Spin   |\n",
      "  X:       0.00000000     0.00000000               | t_particle [sec]:        6.67136901E-09  E_tot: 1.00000E+08\n",
      "  Y:       0.00000000     0.00000000               | t_part-t_ref [sec]:      8.27180613E-25  PC:    9.99987E+07\n",
      "  Z:       0.00000000     0.00000000               | (t_ref-t_part)*Vel [m]: -2.47979271E-16  Beta:  0.999986944\n",
      "-------------------------\n",
      "Tao> \n"
     ]
    }
   ],
   "source": [
    "%%tao\n",
    "sho ele end"
   ]
  },
  {
   "cell_type": "code",
   "execution_count": 6,
   "id": "1bf4978e-bddf-4ed2-a2a8-f8b1baaffbec",
   "metadata": {},
   "outputs": [
    {
     "data": {
      "text/plain": [
       "{'mode_flip': False,\n",
       " 'beta_a': 19.7903813620669,\n",
       " 'alpha_a': -0.991226001622432,\n",
       " 'gamma_a': 0.100176391248953,\n",
       " 'phi_a': 0.0966467384116868,\n",
       " 'eta_a': 0.0,\n",
       " 'etap_a': 0.0,\n",
       " 'beta_b': 21.6557310418989,\n",
       " 'alpha_b': 1.08138475374649,\n",
       " 'gamma_b': 0.100176391248953,\n",
       " 'phi_b': 0.0966467384116869,\n",
       " 'eta_b': 0.0,\n",
       " 'etap_b': 0.0,\n",
       " 'eta_x': 0.0,\n",
       " 'etap_x': 0.0,\n",
       " 'eta_y': 0.0,\n",
       " 'etap_y': 0.0}"
      ]
     },
     "execution_count": 6,
     "metadata": {},
     "output_type": "execute_result"
    }
   ],
   "source": [
    "tao.ele_twiss('end')"
   ]
  },
  {
   "cell_type": "markdown",
   "id": "066d53ab-5930-42cc-801e-f14bddeabba8",
   "metadata": {},
   "source": [
    "# Using Tao.init"
   ]
  },
  {
   "cell_type": "code",
   "execution_count": 7,
   "id": "e27fd755-df7f-49c4-b592-41f27935034b",
   "metadata": {},
   "outputs": [],
   "source": [
    "INIT = \"\"\"\n",
    "\n",
    "&tao_start\n",
    "  n_universes = 1\n",
    "/\n",
    "\n",
    "&tao_design_lattice\n",
    "  design_lattice(1)%file='lat.bmad'\n",
    "/\n",
    "\n",
    "\"\"\"\n",
    "\n",
    "write_str(INIT, 'tao.init')"
   ]
  },
  {
   "cell_type": "code",
   "execution_count": 8,
   "id": "05104483-db9b-48ed-a2bc-05c6d1ce7b3a",
   "metadata": {},
   "outputs": [],
   "source": [
    "tao = Tao('-init tao.init')"
   ]
  },
  {
   "cell_type": "markdown",
   "id": "d6f2ff7a-c107-4d82-81ef-b166bcb7c51f",
   "metadata": {},
   "source": [
    "## Add datums"
   ]
  },
  {
   "cell_type": "code",
   "execution_count": 9,
   "id": "77fda0f5-8905-45fa-bca1-9b2a06424217",
   "metadata": {},
   "outputs": [],
   "source": [
    "DATUMS = \"\"\"\n",
    "\n",
    "&tao_d2_data\n",
    "        d2_data%name = 'fodo'\n",
    "        universe = 1\n",
    "        n_d1_data = 2\n",
    "        \n",
    "/\n",
    "&tao_d1_data\n",
    "    ix_d1_data = 1\n",
    "    d1_data%name = 'betas'\n",
    "    \n",
    "    datum( 1) =  'beta.a'         '' 'BEGINNING' 'END'   'average'   -2.89835   1e1\n",
    "    datum( 2) =  'beta.b'         '' 'BEGINNING' 'END'   'average'   -2.89835   1e1    \n",
    "/  \n",
    "\n",
    "&tao_d1_data\n",
    "    ix_d1_data = 2\n",
    "    d1_data%name = 'stability'\n",
    "    datum( 1) =  'unstable.lattice'         '' '' ''   'target'  0   1e15\n",
    "/  \n",
    "\n",
    "\n",
    "\"\"\"\n",
    "\n",
    "write_str(INIT + DATUMS, 'tao.init')"
   ]
  },
  {
   "cell_type": "code",
   "execution_count": 10,
   "id": "3136b0a7-6a97-49ab-87df-109efbc7295e",
   "metadata": {},
   "outputs": [],
   "source": [
    "tao = Tao('-init tao.init -noplot')"
   ]
  },
  {
   "cell_type": "code",
   "execution_count": 11,
   "id": "ff995f4a-61c3-4e79-9a63-1ac73d8a3ad0",
   "metadata": {},
   "outputs": [
    {
     "name": "stdout",
     "output_type": "stream",
     "text": [
      "-------------------------\n",
      "Tao> sho dat\n",
      "\n",
      "  Name                                 Using for Optimization\n",
      "  fodo.betas[1:2]                                Using: 1:2\n",
      "  fodo.stability[1:1]                            Using: 1\n",
      "-------------------------\n",
      "Tao> \n"
     ]
    }
   ],
   "source": [
    "%%tao\n",
    "sho dat"
   ]
  },
  {
   "cell_type": "code",
   "execution_count": 12,
   "id": "036f3701-6187-44fc-90ef-021813ece6a3",
   "metadata": {},
   "outputs": [
    {
     "data": {
      "text/plain": [
       "0.0"
      ]
     },
     "execution_count": 12,
     "metadata": {},
     "output_type": "execute_result"
    }
   ],
   "source": [
    "tao.data('fodo', 'stability')['model_value']"
   ]
  },
  {
   "cell_type": "code",
   "execution_count": 13,
   "id": "d11b8774-43d7-49e1-8c75-77bf243d02cf",
   "metadata": {},
   "outputs": [
    {
     "data": {
      "text/plain": [
       "20.7230562019829"
      ]
     },
     "execution_count": 13,
     "metadata": {},
     "output_type": "execute_result"
    }
   ],
   "source": [
    "tao.data('fodo', 'betas', dat_index=1)['model_value']"
   ]
  },
  {
   "cell_type": "code",
   "execution_count": 14,
   "id": "cdc0af7b-9186-4c4e-98fc-9ee3a193df28",
   "metadata": {},
   "outputs": [
    {
     "data": {
      "text/plain": [
       "20.7230562019829"
      ]
     },
     "execution_count": 14,
     "metadata": {},
     "output_type": "execute_result"
    }
   ],
   "source": [
    "tao.data('fodo', 'betas', dat_index=2)['model_value']"
   ]
  },
  {
   "cell_type": "markdown",
   "id": "724e3924-a587-4066-9eb2-d902ab4a6061",
   "metadata": {},
   "source": [
    "## Vary k1"
   ]
  },
  {
   "cell_type": "code",
   "execution_count": 15,
   "id": "0883f9eb-7822-4ddf-b78b-609777f2c4b0",
   "metadata": {},
   "outputs": [
    {
     "name": "stdout",
     "output_type": "stream",
     "text": [
      "-------------------------\n",
      "Tao> set global lattice_calc_on = F\n",
      "-------------------------\n",
      "Tao> set ele q1[k1] = 1.1\n",
      "-------------------------\n",
      "Tao> set ele q2[k1] = -1.1\n",
      "-------------------------\n",
      "Tao> set global lattice_calc_on = T\n",
      "-------------------------\n",
      "Tao> \n"
     ]
    }
   ],
   "source": [
    "%%tao\n",
    "set global lattice_calc_on = F\n",
    "set ele q1[k1] = 1.1\n",
    "set ele q2[k1] = -1.1\n",
    "set global lattice_calc_on = T"
   ]
  },
  {
   "cell_type": "code",
   "execution_count": 16,
   "id": "825b4718-3ceb-424e-bdfe-85adf043f28e",
   "metadata": {},
   "outputs": [
    {
     "data": {
      "text/plain": [
       "{'mode_flip': False,\n",
       " 'beta_a': 17.9102736702661,\n",
       " 'alpha_a': -0.986959904337293,\n",
       " 'gamma_a': 0.110221088137072,\n",
       " 'phi_a': 0.106320099680846,\n",
       " 'eta_a': 0.0,\n",
       " 'etap_a': 0.0,\n",
       " 'beta_b': 19.7760805794641,\n",
       " 'alpha_b': 1.08615888366065,\n",
       " 'gamma_b': 0.110221088137071,\n",
       " 'phi_b': 0.106320099680847,\n",
       " 'eta_b': 0.0,\n",
       " 'etap_b': 0.0,\n",
       " 'eta_x': 0.0,\n",
       " 'etap_x': 0.0,\n",
       " 'eta_y': 0.0,\n",
       " 'etap_y': 0.0}"
      ]
     },
     "execution_count": 16,
     "metadata": {},
     "output_type": "execute_result"
    }
   ],
   "source": [
    "tao.ele_twiss('end')"
   ]
  },
  {
   "cell_type": "code",
   "execution_count": 17,
   "id": "effe97be-7647-4dd5-9004-a3fac4e30f00",
   "metadata": {},
   "outputs": [],
   "source": [
    "def set_k1(k1, k1_quad2=None):\n",
    "    d = {}\n",
    "    tao.cmd(f\"set ele q1 k1 = {k1}\", raises = False)\n",
    "    if k1_quad2 is None:\n",
    "        k1_quad2 = -k1\n",
    "    tao.cmd(f\"set ele q2 k1 = {k1_quad2}\", raises = False)\n",
    "    \n",
    "    stable = not bool(tao.data('fodo', 'stability')['model_value'])\n",
    "\n",
    "    d['stable'] = stable\n",
    "    if stable:\n",
    "        d.update(tao.ele_twiss('end'))\n",
    "        d['average_beta_a'] = tao.data('fodo', 'betas', dat_index=1)['model_value']\n",
    "        d['average_beta_b'] = tao.data('fodo', 'betas', dat_index=2)['model_value']        \n",
    "    return d"
   ]
  },
  {
   "cell_type": "code",
   "execution_count": 18,
   "id": "8f763050-f690-4b83-9bf7-a4f367418de5",
   "metadata": {},
   "outputs": [
    {
     "data": {
      "text/plain": [
       "{'stable': True,\n",
       " 'mode_flip': False,\n",
       " 'beta_a': 19.7903813620669,\n",
       " 'alpha_a': -0.991226001622432,\n",
       " 'gamma_a': 0.100176391248953,\n",
       " 'phi_a': 0.0966467384116868,\n",
       " 'eta_a': 0.0,\n",
       " 'etap_a': 0.0,\n",
       " 'beta_b': 21.6557310418989,\n",
       " 'alpha_b': 1.08138475374649,\n",
       " 'gamma_b': 0.100176391248953,\n",
       " 'phi_b': 0.0966467384116869,\n",
       " 'eta_b': 0.0,\n",
       " 'etap_b': 0.0,\n",
       " 'eta_x': 0.0,\n",
       " 'etap_x': 0.0,\n",
       " 'eta_y': 0.0,\n",
       " 'etap_y': 0.0,\n",
       " 'average_beta_a': 20.7230562019829,\n",
       " 'average_beta_b': 20.7230562019829}"
      ]
     },
     "execution_count": 18,
     "metadata": {},
     "output_type": "execute_result"
    }
   ],
   "source": [
    "set_k1(1)"
   ]
  },
  {
   "cell_type": "code",
   "execution_count": 19,
   "id": "cedd39fb-1e85-43ce-8732-e58d018f8f92",
   "metadata": {},
   "outputs": [
    {
     "data": {
      "text/plain": [
       "{'stable': False}"
      ]
     },
     "execution_count": 19,
     "metadata": {},
     "output_type": "execute_result"
    }
   ],
   "source": [
    "set_k1(1, -1.1)"
   ]
  },
  {
   "cell_type": "markdown",
   "id": "89e859e5-e288-4d74-a46d-c255042adb0f",
   "metadata": {},
   "source": [
    "## Scan k1"
   ]
  },
  {
   "cell_type": "code",
   "execution_count": 20,
   "id": "5c34b396-a6b7-420d-91e9-702bc86a509a",
   "metadata": {},
   "outputs": [
    {
     "data": {
      "text/plain": [
       "Text(0, 0.5, '$\\\\overline{\\\\beta_a}$ (m)')"
      ]
     },
     "execution_count": 20,
     "metadata": {},
     "output_type": "execute_result"
    },
    {
     "data": {
      "image/png": "[encoded data removed]",
      "text/plain": [
       "<Figure size 640x480 with 1 Axes>"
      ]
     },
     "metadata": {
      "image/png": {
       "height": 436,
       "width": 568
      }
     },
     "output_type": "display_data"
    }
   ],
   "source": [
    "k1vec = np.linspace(1, 4, 100)\n",
    "\n",
    "results = []\n",
    "for k1 in k1vec:\n",
    "    res = set_k1(k1)\n",
    "    results.append(res)\n",
    "\n",
    "fix, ax = plt.subplots()\n",
    "ax.plot(k1vec, np.array([res['average_beta_a'] for res in results]))\n",
    "ax.set_xlabel(r'$k_1$ (m$^{-2}$)')\n",
    "ax.set_ylabel(r'$\\overline{\\beta_a}$ (m)')"
   ]
  },
  {
   "cell_type": "markdown",
   "id": "4de6cb2f-7292-4d37-b26a-84cb153ab9eb",
   "metadata": {},
   "source": [
    "## Smallest average beta function\n",
    "\n",
    "<div class=\"alert alert-block alert-info\">\n",
    "    \n",
    "**Task 1:**\n",
    "\n",
    "Find the $k_1$ that gives the smallest average beta function. \n",
    "\n",
    "- What is the corresponting phase advance?\n",
    "\n",
    "- What are the corresponding matched Twiss parameters?\n",
    "        \n",
    "</div>"
   ]
  },
  {
   "attachments": {},
   "cell_type": "markdown",
   "id": "cefa1b16-63e2-4d2e-b7ef-5863d9019667",
   "metadata": {},
   "source": [
    "## 2D Stability plot\n",
    "\n",
    "<div class=\"alert alert-block alert-info\">\n",
    "    \n",
    "**Task 2:**\n",
    "\n",
    "Make a 2D stability (\"necktie\") plot similar to the slides\n",
    "        \n",
    "</div>"
   ]
  },
  {
   "cell_type": "markdown",
   "id": "3c6e2012-47a6-4a54-b829-a0bd531843f1",
   "metadata": {},
   "source": [
    "## Add undulators\n",
    "\n",
    "<div class=\"alert alert-block alert-info\">\n",
    "    \n",
    "**Task 3:**\n",
    "\n",
    "Add undulators (`WIGGLER` elements in Bmad) to this FODO lattice with some strength, and tune the quadrupole strengths to give similar beta functions in both planes.\n",
    "        \n",
    "</div>"
   ]
  }
 ],
 "metadata": {
  "kernelspec": {
   "display_name": "Python 3 (ipykernel)",
   "language": "python",
   "name": "python3"
  },
  "language_info": {
   "codemirror_mode": {
    "name": "ipython",
    "version": 3
   },
   "file_extension": ".py",
   "mimetype": "text/x-python",
   "name": "python",
   "nbconvert_exporter": "python",
   "pygments_lexer": "ipython3",
   "version": "3.12.4"
  }
 },
 "nbformat": 4,
 "nbformat_minor": 5
}
