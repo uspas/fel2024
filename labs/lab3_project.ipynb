{
 "cells": [
  {
   "cell_type": "markdown",
   "id": "demographic-arctic",
   "metadata": {},
   "source": [
    "## VUV and X-ray Free Electron Lasers\n",
    "# Project instructions\n",
    "\n",
    "\n",
    "### The Genesis manual can be found here: https://github.com/svenreiche/Genesis-1.3-Version4/blob/master/manual/MANUAL.md\n",
    "----------"
   ]
  },
  {
   "cell_type": "markdown",
   "id": "psychological-richardson",
   "metadata": {},
   "source": [
    "# 1. List your teammates here: "
   ]
  },
  {
   "cell_type": "code",
   "execution_count": null,
   "id": "sustainable-dispute",
   "metadata": {},
   "outputs": [],
   "source": []
  },
  {
   "cell_type": "markdown",
   "id": "fluid-prairie",
   "metadata": {},
   "source": [
    "# 2. Discuss these machines shown here with your teamates. \n",
    "Also see slides 30-33 in Day 1.3 Simulation slides. "
   ]
  },
  {
   "cell_type": "markdown",
   "id": "earned-subscriber",
   "metadata": {},
   "source": [
    "| Parameter               | LEUTL    | LCLS   |  SPARC |\n",
    "| :---:                   | :----:   |   :---:|   :---:  |\n",
    "| $\\lambda_u$  (m)        | 3.3e-2   | 3e-2   |  2.8e-2  |\n",
    "| $\\lambda_r$  (m)        | 5.21e-11| 1.5e-10| 491.5e-9 |\n",
    "| Energy (eV)             |  217e6   | 13.64e9   |  152 MeV  |\n",
    "| Relative energy spread  | 0.1      | 1e-4   |  0.09 |\n",
    "| Avg. Beta                    | --       | 18     |  --   |\n",
    "| max current (A)            | 150      | 3e3    |  53  |\n",
    "|Norm. Emittance (m-rad)        | 9.0e-6   | 0.4e-6 |  2.5e-6 |          \n",
    "\n",
    "\n"
   ]
  },
  {
   "cell_type": "markdown",
   "id": "postal-colors",
   "metadata": {},
   "source": [
    "# 3. Tell us which project you have choosen to simulate. \n",
    "You can choose from the machines in #2, or another of your choosing.   \n"
   ]
  },
  {
   "cell_type": "markdown",
   "id": "extra-origin",
   "metadata": {},
   "source": []
  },
  {
   "cell_type": "markdown",
   "id": "banned-biology",
   "metadata": {},
   "source": [
    "# 4. Project description.\n",
    "\n",
    "You are free to shape your project to fit your interests.   \n",
    "There are only practial limits on what you are allowed to change in the machine.  \n",
    "(i.e. use a reasonable emittance and facility length)\n",
    "\n",
    "Some suggestions/guidance for project components follows. \n",
    "\n",
    "Improve or study one or more of the following:\n",
    "- peak power\n",
    "- bandwidth\n",
    "- photon count\n",
    "- tapering \n",
    "- scaled FODO lattice\n",
    "- current profile impact on performance\n",
    "- off axis beam impact on performance"
   ]
  },
  {
   "cell_type": "markdown",
   "id": "bronze-multiple",
   "metadata": {},
   "source": [
    "These may require, but is not limited to:\n",
    "\n",
    "- beam size studies/scans and matching \n",
    "- $\\lambda_r$ studies/scans\n",
    "- Adjustment of drift spacing\n",
    "- Energy / energy spread studies\n",
    "\n",
    "\n"
   ]
  },
  {
   "cell_type": "markdown",
   "id": "promotional-withdrawal",
   "metadata": {},
   "source": [
    "Discuss with your teamates and write a few sentences or bulleted list detailing what you plan to do in your project.   \n",
    "We will give you feedback on this. "
   ]
  },
  {
   "cell_type": "markdown",
   "id": "collected-harrison",
   "metadata": {},
   "source": []
  }
 ],
 "metadata": {
  "kernelspec": {
   "display_name": "Python 3 (ipykernel)",
   "language": "python",
   "name": "python3"
  },
  "language_info": {
   "codemirror_mode": {
    "name": "ipython",
    "version": 3
   },
   "file_extension": ".py",
   "mimetype": "text/x-python",
   "name": "python",
   "nbconvert_exporter": "python",
   "pygments_lexer": "ipython3",
   "version": "3.12.4"
  }
 },
 "nbformat": 4,
 "nbformat_minor": 5
}
